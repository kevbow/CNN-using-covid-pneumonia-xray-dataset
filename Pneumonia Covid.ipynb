{
 "cells": [
  {
   "cell_type": "code",
   "execution_count": 1,
   "metadata": {
    "ExecuteTime": {
     "end_time": "2020-11-13T01:16:38.171613Z",
     "start_time": "2020-11-13T01:16:37.358086Z"
    }
   },
   "outputs": [],
   "source": [
    "import numpy as np\n",
    "import matplotlib.pyplot as plt"
   ]
  },
  {
   "cell_type": "code",
   "execution_count": 2,
   "metadata": {
    "ExecuteTime": {
     "end_time": "2020-11-13T01:16:39.340200Z",
     "start_time": "2020-11-13T01:16:38.173609Z"
    }
   },
   "outputs": [
    {
     "data": {
      "text/plain": [
       "device(type='cpu')"
      ]
     },
     "execution_count": 2,
     "metadata": {},
     "output_type": "execute_result"
    }
   ],
   "source": [
    "import torch\n",
    "from torch import nn, optim\n",
    "from jcopdl.callback import Callback, set_config\n",
    "\n",
    "device = torch.device(\"cuda:0\" if torch.cuda.is_available() else \"cpu\")\n",
    "device"
   ]
  },
  {
   "cell_type": "markdown",
   "metadata": {},
   "source": [
    "# Dataset and Dataloader"
   ]
  },
  {
   "cell_type": "code",
   "execution_count": 3,
   "metadata": {
    "ExecuteTime": {
     "end_time": "2020-11-13T01:16:39.683334Z",
     "start_time": "2020-11-13T01:16:39.342197Z"
    }
   },
   "outputs": [],
   "source": [
    "from torchvision import datasets, transforms\n",
    "from torch.utils.data import DataLoader"
   ]
  },
  {
   "cell_type": "code",
   "execution_count": 136,
   "metadata": {
    "ExecuteTime": {
     "end_time": "2020-11-13T08:05:47.556354Z",
     "start_time": "2020-11-13T08:05:47.542363Z"
    }
   },
   "outputs": [],
   "source": [
    "bs = 128\n",
    "crop_size = 128 \n",
    "\n",
    "train_transform = transforms.Compose([\n",
    "    transforms.RandomRotation(15),\n",
    "    transforms.RandomResizedCrop(crop_size, scale=(0.7, 1.0)),\n",
    "    transforms.ToTensor()\n",
    "])\n",
    "\n",
    "test_transform = transforms.Compose([\n",
    "    transforms.Resize(140),\n",
    "    transforms.CenterCrop(crop_size),\n",
    "    transforms.ToTensor()\n",
    "])\n",
    "\n",
    "train_set = datasets.ImageFolder(\"xray_dataset_covid19/train/\", transform=train_transform)\n",
    "trainloader = DataLoader(train_set, batch_size=bs, shuffle=True, num_workers=4)\n",
    "\n",
    "test_set = datasets.ImageFolder(\"xray_dataset_covid19/test/\", transform=test_transform)\n",
    "testloader = DataLoader(test_set, batch_size=bs, shuffle=True)"
   ]
  },
  {
   "cell_type": "code",
   "execution_count": 137,
   "metadata": {
    "ExecuteTime": {
     "end_time": "2020-11-13T08:06:11.022060Z",
     "start_time": "2020-11-13T08:05:55.500344Z"
    }
   },
   "outputs": [
    {
     "data": {
      "text/plain": [
       "(torch.Size([128, 3, 128, 128]), torch.Size([128]))"
      ]
     },
     "execution_count": 137,
     "metadata": {},
     "output_type": "execute_result"
    }
   ],
   "source": [
    "images, labels = next(iter(trainloader))\n",
    "images.shape, labels.shape"
   ]
  },
  {
   "cell_type": "code",
   "execution_count": 138,
   "metadata": {
    "ExecuteTime": {
     "end_time": "2020-11-13T08:06:11.029055Z",
     "start_time": "2020-11-13T08:06:11.024058Z"
    }
   },
   "outputs": [
    {
     "data": {
      "text/plain": [
       "['NORMAL', 'PNEUMONIA']"
      ]
     },
     "execution_count": 138,
     "metadata": {},
     "output_type": "execute_result"
    }
   ],
   "source": [
    "label2cat = train_set.classes\n",
    "label2cat"
   ]
  },
  {
   "cell_type": "markdown",
   "metadata": {},
   "source": [
    "# Architecture & Config"
   ]
  },
  {
   "cell_type": "code",
   "execution_count": 139,
   "metadata": {
    "ExecuteTime": {
     "end_time": "2020-11-13T08:06:11.036051Z",
     "start_time": "2020-11-13T08:06:11.031055Z"
    }
   },
   "outputs": [],
   "source": [
    "from jcopdl.layers import conv_block, linear_block"
   ]
  },
  {
   "cell_type": "code",
   "execution_count": 140,
   "metadata": {
    "ExecuteTime": {
     "end_time": "2020-11-13T08:06:11.054039Z",
     "start_time": "2020-11-13T08:06:11.039049Z"
    }
   },
   "outputs": [],
   "source": [
    "class CNN(nn.Module):\n",
    "    def __init__(self):\n",
    "        super().__init__()\n",
    "        self.conv = nn.Sequential(\n",
    "            conv_block(3, 8),\n",
    "            conv_block(8, 16),\n",
    "            conv_block(16, 32),\n",
    "            conv_block(32, 64),\n",
    "            conv_block(64, 128),\n",
    "            nn.Flatten()\n",
    "        )\n",
    "        \n",
    "        self.fc = nn.Sequential(\n",
    "            linear_block(128*4*4, 256, dropout=0.1),\n",
    "            linear_block(256, 2, activation=\"lsoftmax\")\n",
    "        )\n",
    "        \n",
    "    def forward(self, x):\n",
    "        x = self.conv(x)\n",
    "        x = self.fc(x)\n",
    "        return x"
   ]
  },
  {
   "cell_type": "code",
   "execution_count": 141,
   "metadata": {
    "ExecuteTime": {
     "end_time": "2020-11-13T08:06:11.061034Z",
     "start_time": "2020-11-13T08:06:11.056038Z"
    }
   },
   "outputs": [],
   "source": [
    "config = set_config({\n",
    "    'batch_size': bs,\n",
    "    'crop_size': crop_size,\n",
    "    'labels': label2cat\n",
    "})"
   ]
  },
  {
   "cell_type": "markdown",
   "metadata": {},
   "source": [
    "# Training Preparation (MCOC)"
   ]
  },
  {
   "cell_type": "code",
   "execution_count": 142,
   "metadata": {
    "ExecuteTime": {
     "end_time": "2020-11-13T08:06:11.078024Z",
     "start_time": "2020-11-13T08:06:11.063033Z"
    }
   },
   "outputs": [],
   "source": [
    "model = CNN().to(device)\n",
    "criterion = nn.NLLLoss()\n",
    "optimizer = optim.AdamW(model.parameters(), lr=0.001)\n",
    "callback = Callback(model, config, outdir=\"model\")"
   ]
  },
  {
   "cell_type": "code",
   "execution_count": 143,
   "metadata": {
    "ExecuteTime": {
     "end_time": "2020-11-13T08:06:11.092016Z",
     "start_time": "2020-11-13T08:06:11.079024Z"
    }
   },
   "outputs": [],
   "source": [
    "from tqdm.auto import tqdm\n",
    "\n",
    "def loop_fn(mode, dataset, dataloader, model, criterion, optimizer, device):\n",
    "    if mode == \"train\":\n",
    "        model.train()\n",
    "    elif mode == \"test\":\n",
    "        model.eval()\n",
    "    cost = correct = 0\n",
    "    for feature, target in tqdm(dataloader, desc=mode.title()):\n",
    "        feature, target = feature.to(device), target.to(device)\n",
    "        output = model(feature)\n",
    "        loss = criterion(output, target)\n",
    "        \n",
    "        if mode == \"train\":\n",
    "            loss.backward()\n",
    "            optimizer.step()\n",
    "            optimizer.zero_grad()\n",
    "        \n",
    "        cost += loss.item() * feature.shape[0]\n",
    "        correct += (output.argmax(1) == target).sum().item()\n",
    "    cost = cost / len(dataset)\n",
    "    acc = correct / len(dataset)\n",
    "    return cost, acc"
   ]
  },
  {
   "cell_type": "code",
   "execution_count": 144,
   "metadata": {
    "ExecuteTime": {
     "end_time": "2020-11-13T08:14:44.134124Z",
     "start_time": "2020-11-13T08:06:11.094014Z"
    }
   },
   "outputs": [
    {
     "data": {
      "application/vnd.jupyter.widget-view+json": {
       "model_id": "e5e427da40c74067b9e82e7a0db1139d",
       "version_major": 2,
       "version_minor": 0
      },
      "text/plain": [
       "HBox(children=(FloatProgress(value=0.0, description='Train', max=2.0, style=ProgressStyle(description_width='i…"
      ]
     },
     "metadata": {},
     "output_type": "display_data"
    },
    {
     "name": "stdout",
     "output_type": "stream",
     "text": [
      "\n"
     ]
    },
    {
     "data": {
      "application/vnd.jupyter.widget-view+json": {
       "model_id": "d27d9650a4b44be59695857761bfcff5",
       "version_major": 2,
       "version_minor": 0
      },
      "text/plain": [
       "HBox(children=(FloatProgress(value=0.0, description='Test', max=1.0, style=ProgressStyle(description_width='in…"
      ]
     },
     "metadata": {},
     "output_type": "display_data"
    },
    {
     "name": "stdout",
     "output_type": "stream",
     "text": [
      "\n",
      "\n",
      "Epoch     1\n",
      "Train_cost  = 0.6966 | Test_cost  = 0.6933 | Train_score = 0.4595 | Test_score = 0.5000 |\n"
     ]
    },
    {
     "data": {
      "application/vnd.jupyter.widget-view+json": {
       "model_id": "f73759b023974534abdb0a7fca8501f3",
       "version_major": 2,
       "version_minor": 0
      },
      "text/plain": [
       "HBox(children=(FloatProgress(value=0.0, description='Train', max=2.0, style=ProgressStyle(description_width='i…"
      ]
     },
     "metadata": {},
     "output_type": "display_data"
    },
    {
     "name": "stdout",
     "output_type": "stream",
     "text": [
      "\n"
     ]
    },
    {
     "data": {
      "application/vnd.jupyter.widget-view+json": {
       "model_id": "b723ee3f688f431bb432473cc14978dd",
       "version_major": 2,
       "version_minor": 0
      },
      "text/plain": [
       "HBox(children=(FloatProgress(value=0.0, description='Test', max=1.0, style=ProgressStyle(description_width='in…"
      ]
     },
     "metadata": {},
     "output_type": "display_data"
    },
    {
     "name": "stdout",
     "output_type": "stream",
     "text": [
      "\n",
      "\n",
      "Epoch     2\n",
      "Train_cost  = 0.6939 | Test_cost  = 0.6935 | Train_score = 0.5000 | Test_score = 0.5000 |\n",
      "\u001b[31m==> EarlyStop patience =  1 | Best test_score: 0.5000\u001b[0m\n"
     ]
    },
    {
     "data": {
      "application/vnd.jupyter.widget-view+json": {
       "model_id": "135047a8367e48b1893cc417e2bd393f",
       "version_major": 2,
       "version_minor": 0
      },
      "text/plain": [
       "HBox(children=(FloatProgress(value=0.0, description='Train', max=2.0, style=ProgressStyle(description_width='i…"
      ]
     },
     "metadata": {},
     "output_type": "display_data"
    },
    {
     "name": "stdout",
     "output_type": "stream",
     "text": [
      "\n"
     ]
    },
    {
     "data": {
      "application/vnd.jupyter.widget-view+json": {
       "model_id": "002ddf84dbd44ee2b238c4b67bc83a8f",
       "version_major": 2,
       "version_minor": 0
      },
      "text/plain": [
       "HBox(children=(FloatProgress(value=0.0, description='Test', max=1.0, style=ProgressStyle(description_width='in…"
      ]
     },
     "metadata": {},
     "output_type": "display_data"
    },
    {
     "name": "stdout",
     "output_type": "stream",
     "text": [
      "\n",
      "\n",
      "Epoch     3\n",
      "Train_cost  = 0.6932 | Test_cost  = 0.6929 | Train_score = 0.5000 | Test_score = 0.5000 |\n",
      "\u001b[31m==> EarlyStop patience =  2 | Best test_score: 0.5000\u001b[0m\n"
     ]
    },
    {
     "data": {
      "application/vnd.jupyter.widget-view+json": {
       "model_id": "1584f16cd77a4df3bea1d9a5bd91be17",
       "version_major": 2,
       "version_minor": 0
      },
      "text/plain": [
       "HBox(children=(FloatProgress(value=0.0, description='Train', max=2.0, style=ProgressStyle(description_width='i…"
      ]
     },
     "metadata": {},
     "output_type": "display_data"
    },
    {
     "name": "stdout",
     "output_type": "stream",
     "text": [
      "\n"
     ]
    },
    {
     "data": {
      "application/vnd.jupyter.widget-view+json": {
       "model_id": "c85db75aa9874d30b72998c7c8c9a556",
       "version_major": 2,
       "version_minor": 0
      },
      "text/plain": [
       "HBox(children=(FloatProgress(value=0.0, description='Test', max=1.0, style=ProgressStyle(description_width='in…"
      ]
     },
     "metadata": {},
     "output_type": "display_data"
    },
    {
     "name": "stdout",
     "output_type": "stream",
     "text": [
      "\n",
      "\n",
      "Epoch     4\n",
      "Train_cost  = 0.6916 | Test_cost  = 0.6925 | Train_score = 0.5000 | Test_score = 0.5250 |\n"
     ]
    },
    {
     "data": {
      "application/vnd.jupyter.widget-view+json": {
       "model_id": "89a59f15f2914810962fb41065f18f8b",
       "version_major": 2,
       "version_minor": 0
      },
      "text/plain": [
       "HBox(children=(FloatProgress(value=0.0, description='Train', max=2.0, style=ProgressStyle(description_width='i…"
      ]
     },
     "metadata": {},
     "output_type": "display_data"
    },
    {
     "name": "stdout",
     "output_type": "stream",
     "text": [
      "\n"
     ]
    },
    {
     "data": {
      "application/vnd.jupyter.widget-view+json": {
       "model_id": "349d222062244139bf8a4c9594decc8a",
       "version_major": 2,
       "version_minor": 0
      },
      "text/plain": [
       "HBox(children=(FloatProgress(value=0.0, description='Test', max=1.0, style=ProgressStyle(description_width='in…"
      ]
     },
     "metadata": {},
     "output_type": "display_data"
    },
    {
     "name": "stdout",
     "output_type": "stream",
     "text": [
      "\n",
      "\n",
      "Epoch     5\n",
      "Train_cost  = 0.6915 | Test_cost  = 0.6924 | Train_score = 0.5270 | Test_score = 0.5000 |\n",
      "\u001b[31m==> EarlyStop patience =  1 | Best test_score: 0.5250\u001b[0m\n"
     ]
    },
    {
     "data": {
      "application/vnd.jupyter.widget-view+json": {
       "model_id": "d429f2aabfc84bc697ab2a1de436749b",
       "version_major": 2,
       "version_minor": 0
      },
      "text/plain": [
       "HBox(children=(FloatProgress(value=0.0, description='Train', max=2.0, style=ProgressStyle(description_width='i…"
      ]
     },
     "metadata": {},
     "output_type": "display_data"
    },
    {
     "name": "stdout",
     "output_type": "stream",
     "text": [
      "\n"
     ]
    },
    {
     "data": {
      "application/vnd.jupyter.widget-view+json": {
       "model_id": "e94ca44ff14042129fad6322449e253a",
       "version_major": 2,
       "version_minor": 0
      },
      "text/plain": [
       "HBox(children=(FloatProgress(value=0.0, description='Test', max=1.0, style=ProgressStyle(description_width='in…"
      ]
     },
     "metadata": {},
     "output_type": "display_data"
    },
    {
     "name": "stdout",
     "output_type": "stream",
     "text": [
      "\n",
      "\n",
      "Epoch     6\n",
      "Train_cost  = 0.6892 | Test_cost  = 0.6901 | Train_score = 0.5000 | Test_score = 0.5500 |\n"
     ]
    },
    {
     "data": {
      "application/vnd.jupyter.widget-view+json": {
       "model_id": "875d6dbd329f43cf94d2c37c00254dd3",
       "version_major": 2,
       "version_minor": 0
      },
      "text/plain": [
       "HBox(children=(FloatProgress(value=0.0, description='Train', max=2.0, style=ProgressStyle(description_width='i…"
      ]
     },
     "metadata": {},
     "output_type": "display_data"
    },
    {
     "name": "stdout",
     "output_type": "stream",
     "text": [
      "\n"
     ]
    },
    {
     "data": {
      "application/vnd.jupyter.widget-view+json": {
       "model_id": "018f1ee6087b4fa3a45c3c12fd4351d1",
       "version_major": 2,
       "version_minor": 0
      },
      "text/plain": [
       "HBox(children=(FloatProgress(value=0.0, description='Test', max=1.0, style=ProgressStyle(description_width='in…"
      ]
     },
     "metadata": {},
     "output_type": "display_data"
    },
    {
     "name": "stdout",
     "output_type": "stream",
     "text": [
      "\n",
      "\n",
      "Epoch     7\n",
      "Train_cost  = 0.6856 | Test_cost  = 0.6863 | Train_score = 0.6014 | Test_score = 0.5750 |\n"
     ]
    },
    {
     "data": {
      "application/vnd.jupyter.widget-view+json": {
       "model_id": "df94258e8d2947ff88d86ff7e13b0c5c",
       "version_major": 2,
       "version_minor": 0
      },
      "text/plain": [
       "HBox(children=(FloatProgress(value=0.0, description='Train', max=2.0, style=ProgressStyle(description_width='i…"
      ]
     },
     "metadata": {},
     "output_type": "display_data"
    },
    {
     "name": "stdout",
     "output_type": "stream",
     "text": [
      "\n"
     ]
    },
    {
     "data": {
      "application/vnd.jupyter.widget-view+json": {
       "model_id": "de2c8b26764c45af9a10a317e8fc0843",
       "version_major": 2,
       "version_minor": 0
      },
      "text/plain": [
       "HBox(children=(FloatProgress(value=0.0, description='Test', max=1.0, style=ProgressStyle(description_width='in…"
      ]
     },
     "metadata": {},
     "output_type": "display_data"
    },
    {
     "name": "stdout",
     "output_type": "stream",
     "text": [
      "\n",
      "\n",
      "Epoch     8\n",
      "Train_cost  = 0.6784 | Test_cost  = 0.6826 | Train_score = 0.7365 | Test_score = 0.5250 |\n",
      "\u001b[31m==> EarlyStop patience =  1 | Best test_score: 0.5750\u001b[0m\n"
     ]
    },
    {
     "data": {
      "application/vnd.jupyter.widget-view+json": {
       "model_id": "71e07baf69eb48b98f757cdd59f8b622",
       "version_major": 2,
       "version_minor": 0
      },
      "text/plain": [
       "HBox(children=(FloatProgress(value=0.0, description='Train', max=2.0, style=ProgressStyle(description_width='i…"
      ]
     },
     "metadata": {},
     "output_type": "display_data"
    },
    {
     "name": "stdout",
     "output_type": "stream",
     "text": [
      "\n"
     ]
    },
    {
     "data": {
      "application/vnd.jupyter.widget-view+json": {
       "model_id": "1d34c4f66ed14b129861c77b9de79f9d",
       "version_major": 2,
       "version_minor": 0
      },
      "text/plain": [
       "HBox(children=(FloatProgress(value=0.0, description='Test', max=1.0, style=ProgressStyle(description_width='in…"
      ]
     },
     "metadata": {},
     "output_type": "display_data"
    },
    {
     "name": "stdout",
     "output_type": "stream",
     "text": [
      "\n",
      "\n",
      "Epoch     9\n",
      "Train_cost  = 0.6670 | Test_cost  = 0.6681 | Train_score = 0.5405 | Test_score = 0.6250 |\n"
     ]
    },
    {
     "data": {
      "application/vnd.jupyter.widget-view+json": {
       "model_id": "63adcf9798db4892a00a3a40467e1a2c",
       "version_major": 2,
       "version_minor": 0
      },
      "text/plain": [
       "HBox(children=(FloatProgress(value=0.0, description='Train', max=2.0, style=ProgressStyle(description_width='i…"
      ]
     },
     "metadata": {},
     "output_type": "display_data"
    },
    {
     "name": "stdout",
     "output_type": "stream",
     "text": [
      "\n"
     ]
    },
    {
     "data": {
      "application/vnd.jupyter.widget-view+json": {
       "model_id": "f0468f2214e44c6f80679f9c68704690",
       "version_major": 2,
       "version_minor": 0
      },
      "text/plain": [
       "HBox(children=(FloatProgress(value=0.0, description='Test', max=1.0, style=ProgressStyle(description_width='in…"
      ]
     },
     "metadata": {},
     "output_type": "display_data"
    },
    {
     "name": "stdout",
     "output_type": "stream",
     "text": [
      "\n",
      "\n",
      "Epoch    10\n",
      "Train_cost  = 0.6419 | Test_cost  = 0.6441 | Train_score = 0.6892 | Test_score = 0.7500 |\n"
     ]
    },
    {
     "data": {
      "application/vnd.jupyter.widget-view+json": {
       "model_id": "bf4a98282ef34651bdc75ce2e2245e70",
       "version_major": 2,
       "version_minor": 0
      },
      "text/plain": [
       "HBox(children=(FloatProgress(value=0.0, description='Train', max=2.0, style=ProgressStyle(description_width='i…"
      ]
     },
     "metadata": {},
     "output_type": "display_data"
    },
    {
     "name": "stdout",
     "output_type": "stream",
     "text": [
      "\n"
     ]
    },
    {
     "data": {
      "application/vnd.jupyter.widget-view+json": {
       "model_id": "5411927da1b049a2b62c118d6860f65d",
       "version_major": 2,
       "version_minor": 0
      },
      "text/plain": [
       "HBox(children=(FloatProgress(value=0.0, description='Test', max=1.0, style=ProgressStyle(description_width='in…"
      ]
     },
     "metadata": {},
     "output_type": "display_data"
    },
    {
     "name": "stdout",
     "output_type": "stream",
     "text": [
      "\n",
      "\n",
      "Epoch    11\n",
      "Train_cost  = 0.6119 | Test_cost  = 0.6528 | Train_score = 0.8581 | Test_score = 0.6250 |\n",
      "\u001b[31m==> EarlyStop patience =  1 | Best test_score: 0.7500\u001b[0m\n"
     ]
    },
    {
     "data": {
      "application/vnd.jupyter.widget-view+json": {
       "model_id": "47bc458c40bc4551945a4cfb92a720df",
       "version_major": 2,
       "version_minor": 0
      },
      "text/plain": [
       "HBox(children=(FloatProgress(value=0.0, description='Train', max=2.0, style=ProgressStyle(description_width='i…"
      ]
     },
     "metadata": {},
     "output_type": "display_data"
    },
    {
     "name": "stdout",
     "output_type": "stream",
     "text": [
      "\n"
     ]
    },
    {
     "data": {
      "application/vnd.jupyter.widget-view+json": {
       "model_id": "02388d2aa0d843a8b8f72ef8e84ad400",
       "version_major": 2,
       "version_minor": 0
      },
      "text/plain": [
       "HBox(children=(FloatProgress(value=0.0, description='Test', max=1.0, style=ProgressStyle(description_width='in…"
      ]
     },
     "metadata": {},
     "output_type": "display_data"
    },
    {
     "name": "stdout",
     "output_type": "stream",
     "text": [
      "\n",
      "\n",
      "Epoch    12\n",
      "Train_cost  = 0.5939 | Test_cost  = 0.5558 | Train_score = 0.6486 | Test_score = 0.7000 |\n",
      "\u001b[31m==> EarlyStop patience =  2 | Best test_score: 0.7500\u001b[0m\n"
     ]
    },
    {
     "data": {
      "application/vnd.jupyter.widget-view+json": {
       "model_id": "680a550646a04f6eaaaaf31dbb5ef4ff",
       "version_major": 2,
       "version_minor": 0
      },
      "text/plain": [
       "HBox(children=(FloatProgress(value=0.0, description='Train', max=2.0, style=ProgressStyle(description_width='i…"
      ]
     },
     "metadata": {},
     "output_type": "display_data"
    },
    {
     "name": "stdout",
     "output_type": "stream",
     "text": [
      "\n"
     ]
    },
    {
     "data": {
      "application/vnd.jupyter.widget-view+json": {
       "model_id": "0544e148b05d486a8a2fcb44ce68fc64",
       "version_major": 2,
       "version_minor": 0
      },
      "text/plain": [
       "HBox(children=(FloatProgress(value=0.0, description='Test', max=1.0, style=ProgressStyle(description_width='in…"
      ]
     },
     "metadata": {},
     "output_type": "display_data"
    },
    {
     "name": "stdout",
     "output_type": "stream",
     "text": [
      "\n",
      "\n",
      "Epoch    13\n",
      "Train_cost  = 0.4966 | Test_cost  = 0.5014 | Train_score = 0.7838 | Test_score = 0.7000 |\n",
      "\u001b[31m==> EarlyStop patience =  3 | Best test_score: 0.7500\u001b[0m\n"
     ]
    },
    {
     "data": {
      "application/vnd.jupyter.widget-view+json": {
       "model_id": "8e538cde14634cd68f53bdd617095fd6",
       "version_major": 2,
       "version_minor": 0
      },
      "text/plain": [
       "HBox(children=(FloatProgress(value=0.0, description='Train', max=2.0, style=ProgressStyle(description_width='i…"
      ]
     },
     "metadata": {},
     "output_type": "display_data"
    },
    {
     "name": "stdout",
     "output_type": "stream",
     "text": [
      "\n"
     ]
    },
    {
     "data": {
      "application/vnd.jupyter.widget-view+json": {
       "model_id": "29d614fe023b41429d382a29c9c3b16f",
       "version_major": 2,
       "version_minor": 0
      },
      "text/plain": [
       "HBox(children=(FloatProgress(value=0.0, description='Test', max=1.0, style=ProgressStyle(description_width='in…"
      ]
     },
     "metadata": {},
     "output_type": "display_data"
    },
    {
     "name": "stdout",
     "output_type": "stream",
     "text": [
      "\n",
      "\n",
      "Epoch    14\n",
      "Train_cost  = 0.4397 | Test_cost  = 0.4393 | Train_score = 0.8041 | Test_score = 0.7750 |\n"
     ]
    },
    {
     "data": {
      "application/vnd.jupyter.widget-view+json": {
       "model_id": "05bbaaa831f2429ba1b056ec16522f36",
       "version_major": 2,
       "version_minor": 0
      },
      "text/plain": [
       "HBox(children=(FloatProgress(value=0.0, description='Train', max=2.0, style=ProgressStyle(description_width='i…"
      ]
     },
     "metadata": {},
     "output_type": "display_data"
    },
    {
     "name": "stdout",
     "output_type": "stream",
     "text": [
      "\n"
     ]
    },
    {
     "data": {
      "application/vnd.jupyter.widget-view+json": {
       "model_id": "7224c0d285304214830b8559d4c12077",
       "version_major": 2,
       "version_minor": 0
      },
      "text/plain": [
       "HBox(children=(FloatProgress(value=0.0, description='Test', max=1.0, style=ProgressStyle(description_width='in…"
      ]
     },
     "metadata": {},
     "output_type": "display_data"
    },
    {
     "name": "stdout",
     "output_type": "stream",
     "text": [
      "\n",
      "\n",
      "Epoch    15\n",
      "Train_cost  = 0.3688 | Test_cost  = 0.5266 | Train_score = 0.8378 | Test_score = 0.6500 |\n",
      "\u001b[31m==> EarlyStop patience =  1 | Best test_score: 0.7750\u001b[0m\n"
     ]
    },
    {
     "data": {
      "application/vnd.jupyter.widget-view+json": {
       "model_id": "19ce355fb28544518950ba95a53a8c0d",
       "version_major": 2,
       "version_minor": 0
      },
      "text/plain": [
       "HBox(children=(FloatProgress(value=0.0, description='Train', max=2.0, style=ProgressStyle(description_width='i…"
      ]
     },
     "metadata": {},
     "output_type": "display_data"
    },
    {
     "name": "stdout",
     "output_type": "stream",
     "text": [
      "\n"
     ]
    },
    {
     "data": {
      "application/vnd.jupyter.widget-view+json": {
       "model_id": "d66e23fcd3f5478db5c8a1abbb0c3c70",
       "version_major": 2,
       "version_minor": 0
      },
      "text/plain": [
       "HBox(children=(FloatProgress(value=0.0, description='Test', max=1.0, style=ProgressStyle(description_width='in…"
      ]
     },
     "metadata": {},
     "output_type": "display_data"
    },
    {
     "name": "stdout",
     "output_type": "stream",
     "text": [
      "\n",
      "\n",
      "Epoch    16\n",
      "Train_cost  = 0.4151 | Test_cost  = 0.4075 | Train_score = 0.7905 | Test_score = 0.7750 |\n",
      "\u001b[31m==> EarlyStop patience =  2 | Best test_score: 0.7750\u001b[0m\n"
     ]
    },
    {
     "data": {
      "application/vnd.jupyter.widget-view+json": {
       "model_id": "86ae019041194f5e8dab556890324efb",
       "version_major": 2,
       "version_minor": 0
      },
      "text/plain": [
       "HBox(children=(FloatProgress(value=0.0, description='Train', max=2.0, style=ProgressStyle(description_width='i…"
      ]
     },
     "metadata": {},
     "output_type": "display_data"
    },
    {
     "name": "stdout",
     "output_type": "stream",
     "text": [
      "\n"
     ]
    },
    {
     "data": {
      "application/vnd.jupyter.widget-view+json": {
       "model_id": "99ce32d2041f4637b2ed5dc81f54c240",
       "version_major": 2,
       "version_minor": 0
      },
      "text/plain": [
       "HBox(children=(FloatProgress(value=0.0, description='Test', max=1.0, style=ProgressStyle(description_width='in…"
      ]
     },
     "metadata": {},
     "output_type": "display_data"
    },
    {
     "name": "stdout",
     "output_type": "stream",
     "text": [
      "\n",
      "\n",
      "Epoch    17\n",
      "Train_cost  = 0.3403 | Test_cost  = 0.4737 | Train_score = 0.8446 | Test_score = 0.7250 |\n",
      "\u001b[31m==> EarlyStop patience =  3 | Best test_score: 0.7750\u001b[0m\n"
     ]
    },
    {
     "data": {
      "application/vnd.jupyter.widget-view+json": {
       "model_id": "c8438bdafaee4cb28070c6b4d4465c2e",
       "version_major": 2,
       "version_minor": 0
      },
      "text/plain": [
       "HBox(children=(FloatProgress(value=0.0, description='Train', max=2.0, style=ProgressStyle(description_width='i…"
      ]
     },
     "metadata": {},
     "output_type": "display_data"
    },
    {
     "name": "stdout",
     "output_type": "stream",
     "text": [
      "\n"
     ]
    },
    {
     "data": {
      "application/vnd.jupyter.widget-view+json": {
       "model_id": "c17a7e7c917d4029bce0d54740b31a06",
       "version_major": 2,
       "version_minor": 0
      },
      "text/plain": [
       "HBox(children=(FloatProgress(value=0.0, description='Test', max=1.0, style=ProgressStyle(description_width='in…"
      ]
     },
     "metadata": {},
     "output_type": "display_data"
    },
    {
     "name": "stdout",
     "output_type": "stream",
     "text": [
      "\n",
      "\n",
      "Epoch    18\n",
      "Train_cost  = 0.3429 | Test_cost  = 0.2566 | Train_score = 0.8311 | Test_score = 0.8250 |\n"
     ]
    },
    {
     "data": {
      "application/vnd.jupyter.widget-view+json": {
       "model_id": "547d2cd30b604dc69f4717e7f999c0c5",
       "version_major": 2,
       "version_minor": 0
      },
      "text/plain": [
       "HBox(children=(FloatProgress(value=0.0, description='Train', max=2.0, style=ProgressStyle(description_width='i…"
      ]
     },
     "metadata": {},
     "output_type": "display_data"
    },
    {
     "name": "stdout",
     "output_type": "stream",
     "text": [
      "\n"
     ]
    },
    {
     "data": {
      "application/vnd.jupyter.widget-view+json": {
       "model_id": "5ae57f3f1ad344e792f18e25819f328f",
       "version_major": 2,
       "version_minor": 0
      },
      "text/plain": [
       "HBox(children=(FloatProgress(value=0.0, description='Test', max=1.0, style=ProgressStyle(description_width='in…"
      ]
     },
     "metadata": {},
     "output_type": "display_data"
    },
    {
     "name": "stdout",
     "output_type": "stream",
     "text": [
      "\n",
      "\n",
      "Epoch    19\n",
      "Train_cost  = 0.2597 | Test_cost  = 0.2538 | Train_score = 0.9257 | Test_score = 0.8750 |\n"
     ]
    },
    {
     "data": {
      "application/vnd.jupyter.widget-view+json": {
       "model_id": "d73c3e69c3254881be2583abddf23580",
       "version_major": 2,
       "version_minor": 0
      },
      "text/plain": [
       "HBox(children=(FloatProgress(value=0.0, description='Train', max=2.0, style=ProgressStyle(description_width='i…"
      ]
     },
     "metadata": {},
     "output_type": "display_data"
    },
    {
     "name": "stdout",
     "output_type": "stream",
     "text": [
      "\n"
     ]
    },
    {
     "data": {
      "application/vnd.jupyter.widget-view+json": {
       "model_id": "6d0ddc97d56a4dde97d05206317f0f68",
       "version_major": 2,
       "version_minor": 0
      },
      "text/plain": [
       "HBox(children=(FloatProgress(value=0.0, description='Test', max=1.0, style=ProgressStyle(description_width='in…"
      ]
     },
     "metadata": {},
     "output_type": "display_data"
    },
    {
     "name": "stdout",
     "output_type": "stream",
     "text": [
      "\n",
      "\n",
      "Epoch    20\n",
      "Train_cost  = 0.2512 | Test_cost  = 0.3376 | Train_score = 0.8851 | Test_score = 0.8750 |\n"
     ]
    },
    {
     "data": {
      "image/png": "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\n",
      "text/plain": [
       "<Figure size 576x360 with 1 Axes>"
      ]
     },
     "metadata": {
      "needs_background": "light"
     },
     "output_type": "display_data"
    },
    {
     "data": {
      "image/png": "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\n",
      "text/plain": [
       "<Figure size 576x360 with 1 Axes>"
      ]
     },
     "metadata": {
      "needs_background": "light"
     },
     "output_type": "display_data"
    },
    {
     "name": "stdout",
     "output_type": "stream",
     "text": [
      "\u001b[31m==> EarlyStop patience =  1 | Best test_score: 0.8750\u001b[0m\n"
     ]
    },
    {
     "data": {
      "application/vnd.jupyter.widget-view+json": {
       "model_id": "0cba0364480242c9b6b14cd0527f0af1",
       "version_major": 2,
       "version_minor": 0
      },
      "text/plain": [
       "HBox(children=(FloatProgress(value=0.0, description='Train', max=2.0, style=ProgressStyle(description_width='i…"
      ]
     },
     "metadata": {},
     "output_type": "display_data"
    },
    {
     "name": "stdout",
     "output_type": "stream",
     "text": [
      "\n"
     ]
    },
    {
     "data": {
      "application/vnd.jupyter.widget-view+json": {
       "model_id": "219856ca73b94bcba334e6c64567917c",
       "version_major": 2,
       "version_minor": 0
      },
      "text/plain": [
       "HBox(children=(FloatProgress(value=0.0, description='Test', max=1.0, style=ProgressStyle(description_width='in…"
      ]
     },
     "metadata": {},
     "output_type": "display_data"
    },
    {
     "name": "stdout",
     "output_type": "stream",
     "text": [
      "\n",
      "\n",
      "Epoch    21\n",
      "Train_cost  = 0.3185 | Test_cost  = 0.2599 | Train_score = 0.8446 | Test_score = 0.8750 |\n",
      "\u001b[31m==> EarlyStop patience =  2 | Best test_score: 0.8750\u001b[0m\n"
     ]
    },
    {
     "data": {
      "application/vnd.jupyter.widget-view+json": {
       "model_id": "f19574ddbb054079a316d4a110558c46",
       "version_major": 2,
       "version_minor": 0
      },
      "text/plain": [
       "HBox(children=(FloatProgress(value=0.0, description='Train', max=2.0, style=ProgressStyle(description_width='i…"
      ]
     },
     "metadata": {},
     "output_type": "display_data"
    },
    {
     "name": "stdout",
     "output_type": "stream",
     "text": [
      "\n"
     ]
    },
    {
     "data": {
      "application/vnd.jupyter.widget-view+json": {
       "model_id": "760a701f86ac41dd99a55e4934211562",
       "version_major": 2,
       "version_minor": 0
      },
      "text/plain": [
       "HBox(children=(FloatProgress(value=0.0, description='Test', max=1.0, style=ProgressStyle(description_width='in…"
      ]
     },
     "metadata": {},
     "output_type": "display_data"
    },
    {
     "name": "stdout",
     "output_type": "stream",
     "text": [
      "\n",
      "\n",
      "Epoch    22\n",
      "Train_cost  = 0.2502 | Test_cost  = 0.2890 | Train_score = 0.9054 | Test_score = 0.9250 |\n"
     ]
    },
    {
     "data": {
      "application/vnd.jupyter.widget-view+json": {
       "model_id": "f94e7c47dd6b41a4b92448df78d92a7e",
       "version_major": 2,
       "version_minor": 0
      },
      "text/plain": [
       "HBox(children=(FloatProgress(value=0.0, description='Train', max=2.0, style=ProgressStyle(description_width='i…"
      ]
     },
     "metadata": {},
     "output_type": "display_data"
    },
    {
     "name": "stdout",
     "output_type": "stream",
     "text": [
      "\n"
     ]
    },
    {
     "data": {
      "application/vnd.jupyter.widget-view+json": {
       "model_id": "f9381f83e35e4cfe8906d19b927fc31f",
       "version_major": 2,
       "version_minor": 0
      },
      "text/plain": [
       "HBox(children=(FloatProgress(value=0.0, description='Test', max=1.0, style=ProgressStyle(description_width='in…"
      ]
     },
     "metadata": {},
     "output_type": "display_data"
    },
    {
     "name": "stdout",
     "output_type": "stream",
     "text": [
      "\n",
      "\n",
      "Epoch    23\n",
      "Train_cost  = 0.2573 | Test_cost  = 0.2648 | Train_score = 0.8851 | Test_score = 0.8500 |\n",
      "\u001b[31m==> EarlyStop patience =  1 | Best test_score: 0.9250\u001b[0m\n"
     ]
    },
    {
     "data": {
      "application/vnd.jupyter.widget-view+json": {
       "model_id": "818824f089d1496991fb390fee8fcf9c",
       "version_major": 2,
       "version_minor": 0
      },
      "text/plain": [
       "HBox(children=(FloatProgress(value=0.0, description='Train', max=2.0, style=ProgressStyle(description_width='i…"
      ]
     },
     "metadata": {},
     "output_type": "display_data"
    },
    {
     "name": "stdout",
     "output_type": "stream",
     "text": [
      "\n"
     ]
    },
    {
     "data": {
      "application/vnd.jupyter.widget-view+json": {
       "model_id": "f96dccc352c847e49fc303854d06e312",
       "version_major": 2,
       "version_minor": 0
      },
      "text/plain": [
       "HBox(children=(FloatProgress(value=0.0, description='Test', max=1.0, style=ProgressStyle(description_width='in…"
      ]
     },
     "metadata": {},
     "output_type": "display_data"
    },
    {
     "name": "stdout",
     "output_type": "stream",
     "text": [
      "\n",
      "\n",
      "Epoch    24\n",
      "Train_cost  = 0.2593 | Test_cost  = 0.2645 | Train_score = 0.9324 | Test_score = 0.8500 |\n",
      "\u001b[31m==> EarlyStop patience =  2 | Best test_score: 0.9250\u001b[0m\n"
     ]
    },
    {
     "data": {
      "application/vnd.jupyter.widget-view+json": {
       "model_id": "6e85ea2f30c6474095d316a8f7e015e0",
       "version_major": 2,
       "version_minor": 0
      },
      "text/plain": [
       "HBox(children=(FloatProgress(value=0.0, description='Train', max=2.0, style=ProgressStyle(description_width='i…"
      ]
     },
     "metadata": {},
     "output_type": "display_data"
    },
    {
     "name": "stdout",
     "output_type": "stream",
     "text": [
      "\n"
     ]
    },
    {
     "data": {
      "application/vnd.jupyter.widget-view+json": {
       "model_id": "fae39ddf20ba4637ae839397d99e0830",
       "version_major": 2,
       "version_minor": 0
      },
      "text/plain": [
       "HBox(children=(FloatProgress(value=0.0, description='Test', max=1.0, style=ProgressStyle(description_width='in…"
      ]
     },
     "metadata": {},
     "output_type": "display_data"
    },
    {
     "name": "stdout",
     "output_type": "stream",
     "text": [
      "\n",
      "\n",
      "Epoch    25\n",
      "Train_cost  = 0.2097 | Test_cost  = 0.3044 | Train_score = 0.9459 | Test_score = 0.8750 |\n",
      "\u001b[31m==> EarlyStop patience =  3 | Best test_score: 0.9250\u001b[0m\n"
     ]
    },
    {
     "data": {
      "application/vnd.jupyter.widget-view+json": {
       "model_id": "80970c400a164e6188a294c97fc58f11",
       "version_major": 2,
       "version_minor": 0
      },
      "text/plain": [
       "HBox(children=(FloatProgress(value=0.0, description='Train', max=2.0, style=ProgressStyle(description_width='i…"
      ]
     },
     "metadata": {},
     "output_type": "display_data"
    },
    {
     "name": "stdout",
     "output_type": "stream",
     "text": [
      "\n"
     ]
    },
    {
     "data": {
      "application/vnd.jupyter.widget-view+json": {
       "model_id": "1c3cf9579929460fb6a010c60865daaa",
       "version_major": 2,
       "version_minor": 0
      },
      "text/plain": [
       "HBox(children=(FloatProgress(value=0.0, description='Test', max=1.0, style=ProgressStyle(description_width='in…"
      ]
     },
     "metadata": {},
     "output_type": "display_data"
    },
    {
     "name": "stdout",
     "output_type": "stream",
     "text": [
      "\n",
      "\n",
      "Epoch    26\n",
      "Train_cost  = 0.2635 | Test_cost  = 0.2635 | Train_score = 0.8919 | Test_score = 0.8750 |\n",
      "\u001b[31m==> EarlyStop patience =  4 | Best test_score: 0.9250\u001b[0m\n"
     ]
    },
    {
     "data": {
      "application/vnd.jupyter.widget-view+json": {
       "model_id": "1788ec5504e147b5afb6f2d19181314f",
       "version_major": 2,
       "version_minor": 0
      },
      "text/plain": [
       "HBox(children=(FloatProgress(value=0.0, description='Train', max=2.0, style=ProgressStyle(description_width='i…"
      ]
     },
     "metadata": {},
     "output_type": "display_data"
    },
    {
     "name": "stdout",
     "output_type": "stream",
     "text": [
      "\n"
     ]
    },
    {
     "data": {
      "application/vnd.jupyter.widget-view+json": {
       "model_id": "aa69ec5b95c84188abbf1e10b0d78528",
       "version_major": 2,
       "version_minor": 0
      },
      "text/plain": [
       "HBox(children=(FloatProgress(value=0.0, description='Test', max=1.0, style=ProgressStyle(description_width='in…"
      ]
     },
     "metadata": {},
     "output_type": "display_data"
    },
    {
     "name": "stdout",
     "output_type": "stream",
     "text": [
      "\n",
      "\n",
      "Epoch    27\n",
      "Train_cost  = 0.2459 | Test_cost  = 0.2574 | Train_score = 0.8986 | Test_score = 0.8750 |\n",
      "\u001b[31m==> EarlyStop patience =  5 | Best test_score: 0.9250\u001b[0m\n",
      "\u001b[31m==> Execute Early Stopping at epoch: 27 | Best test_score: 0.9250\u001b[0m\n",
      "\u001b[31m==> Best model is saved at model\u001b[0m\n"
     ]
    },
    {
     "data": {
      "image/png": "iVBORw0KGgoAAAANSUhEUgAAAgsAAAE9CAYAAACFlCHjAAAABHNCSVQICAgIfAhkiAAAAAlwSFlzAAALEgAACxIB0t1+/AAAADh0RVh0U29mdHdhcmUAbWF0cGxvdGxpYiB2ZXJzaW9uMy4xLjIsIGh0dHA6Ly9tYXRwbG90bGliLm9yZy8li6FKAAAgAElEQVR4nO3deZjN5f/H8ec9O8Y6lmyZkopkKS1EWhBDobSIEkW79tK3+mqvX4lS2lFfFW2kRWSUViVKIdlSyD72dczM/fvjnmGMM2fOOXOWmTOvx3Wd65z5rPc56Trvcy/vt7HWIiIiIlKYmEg3QEREREo2BQsiIiLilYIFERER8UrBgoiIiHilYEFERES8UrAgIiIiXsVFugElVfXq1W1qamqkmyEiIhIWc+fO3WStreFpn4KFQqSmpjJnzpxIN0NERCQsjDH/FLZPwxAiIiLilYIFERER8UrBgoiIiHilOQsiIlKm7d+/n9WrV7N3795INyUskpKSqFevHvHx8T6fo2BBRETKtNWrV1OxYkVSU1MxxkS6OSFlrSUjI4PVq1dz1FFH+XyehiFERKRM27t3LykpKVEfKAAYY0hJSfG7F0XBgoiIlHllIVDIE8h7VbAgIiISQRkZGbRo0YIWLVpwxBFHULdu3QN/Z2Zm+nSN/v37s3jx4pC1UXMWREREIiglJYV58+YB8OCDD5KcnMydd955yDHWWqy1xMR4/o0/duzYkLZRPQsFGGPON8a8um3btuBd9LPP4I034MMP4YsvYNYsWLAA/vkHNm+G/fuDdy8REYkKy5Yto2nTplx33XWcdNJJrF27lkGDBtGqVStOOOEEHn744QPHtm3blnnz5pGVlUWVKlUYMmQIzZs3p3Xr1mzYsKHYbVHPQgHW2k+AT1q1ajUwWNecPGQWKxdsw2LIIQaLOfwRG49NTMImJWETkshJdM82IRESE4mJNcTGQlwcxMZCbBzExea9Nm57nDn8dbwhNj6GmMR4TEI8MUnxxCQlEpMYT0xSAiYx4cDrmKQEYsoluuPiY4mJgZgYyD+8VXCoq7B9ea9jYqB8eahQAZKTISEhWJ+qiEj0++OPPxg7diwvv/wyAE8++STVqlUjKyuLs88+m169etGkSZNDztm2bRvt27fnySef5Pbbb2fMmDEMGTKkWO1QsBAGz6cMZQZFrGfNBnbnPqJYnMkiOW4vFeIzSU7IpEJiFslJWVQol0OF8pbkCpYKyYbkijFUqBRD5ZR4qtVJIuXIClSrnUhKClSrBlWquEBERCSobr0VcocEgqZFC3j22YBObdiwIaeccsqBv8ePH8/o0aPJyspizZo1/PHHH4cFC+XKlaNLly4AnHzyyXz77beBtz2XgoUw+HByPPv3H/yVXtSj4HEAOTmQne0eWVkFXu/PITszm6zMHLL3ZZG9P4esfdlu+/4csvbsx2buJ2dvJnZfJjn73Ou8Z5u5373Oe2RmYTMzydmXRfa+LHdzwJKv68DaQ/62Fo+vs7Nh927Ytduwc08Mu/bGsnNfPLv2xbNzdyK7tiewM6c8G6nACpLZRQV25j5nkljoZxpDNlUTdlEtaTcpFfZSrWIWKVWyqZZiSKkRQ7Va8aTUTSKlUTWq1YqnWjVISYGKFQ/vHRERKakqVKhw4PXSpUt57rnnmD17NlWqVKFv374el0Am5OvCjY2NJSsrq9jtULAQBpUrh/oOMRycflL4F2yJlZXlIoqdO2HXLti1GXbuZP+23Wxbu5vNa/aSsTaTzev3k5EBm7cYMrbFsXlnAhl7yrN5fQXWra3CH1QjgxR2UKnQW8XFZFOt4n4XPBwRT7XqsQd6K/Ke817XqwfHHqvgQqRMCbAHIBy2b99OxYoVqVSpEmvXrmXatGl07tw5LPdWsCCRFxcHlSq5Rz7xQPXcR5H27oUtW2DzKjI3bGXLqp1krNzF5mWbyVixnc2rdpGxPovNuxPZvK0aGdtS2LyiGivjjmBebHUysquwO+vwQKtePejc2T3OPdcNf4iIRMJJJ51EkyZNaNq0KUcffTRnnHFG2O5tbP4+YzmgVatWds6cOZFuhgTb1q2wfDksW3bY8941GWymGptzeyiWJJ/MtOSLmL7lZLbvSyI21tK6tTkQPLRsqXkTItFg0aJFNG7cONLNCCtP79kYM9da28rT8epZkLKlShU4+WT3KCBp927q/PUXdXKDh/YLFjBw1tXsX7ecnziNqTlpTP2lB/d/14T774eaKdmclxZD586Gjh2hRo0IvB8RkTBQsCCSp3x5aNrUPfKJz8ig7U8/0faHH3h01s2s/3EF03e34fOMLkx5qwvjxlXDGEur43fSuUc5OneL49RT3eiKiEg00DBEITQMIYXKynJJtWbNIvu7Wfzy9Q6m/tuUqXTmR04nh1iqJO7m0s7buWfEEfhR2E1EIkDDEI63YQgFC4VQsCB+Wb8efvyRLV/+SvoXOXy65Fgm5FxMtomjz3kZ3DuiJscfH+lGiognChYcb8GCpmeJBEOtWtC9O1Wfe5CLFz3Mmzsu5K8H3mBw0mt8MLUCTRrncEmHjKDnehERCQcFCyKhUL48dR++luEbr+DvB8Zwb7lnmTYjjpYt4fx2W/nxx0g3UETEdwoWREKpQgVqPHwzj60fyD8PjOaRco/zw3fZtG4NHU7bzsyZh2a8DAZrg39NEQmdYJSoBhgzZgzr1q0LSRsVLIiEQ8WKVHn4du5fdxP/PDCaYeUeYOHsXZx9NrRtuZMpUwL7gt++HX74AV55BW66Cdq3d9kn27ZVwCBSWuSVqJ43bx7XXXcdt91224G/E/yovhfKYEGLu0TCqVIlkh++mzvu2MaNw15gzLDN/N9vg+naNZmWx+/hvkfL0bPn4cme9u+HxYth/vxDH//8c/CY5GS36vP00+Hzz2HKFOjaNbxvT0SC680332TUqFFkZmbSpk0bXnjhBXJycujfvz/z5s3DWsugQYOoVasW8+bN49JLL6VcuXLMnj3br0CjKAoWRCKhcmWSHrmPG+7YyjXPPM/bw9by+J+30atXI5o03MtNdySxffvBoGDRIhcwgCtLftxxLigYOBBOPNE9GjRwQcb+/dCoETzxhIIFkdJswYIFTJo0iR9++IG4uDgGDRrEhAkTaNiwIZs2bWL+/PkAbN26lSpVqvD888/zwgsv0KJFi6C3RcGCSCRVqULCIw/Q//YtXDlsBO8PX8Vjy2/nhhtOBKB+fRcIdO58MCg4/nhI9FIvLD4e7rwTbr4Zvv0W2rUL03sRiQIlqUJ1eno6P//8M61audWMe/bsoX79+px33nksXryYW265hbS0NDp16hTcBnugYEGkJKhaldjHHuay2zO45JkR/DFiAHXNGqrelvut72c6yAED4OGHXe+CggWR0slay4ABA3jkkUcO2/f777/z+eefM3LkSD788ENeffXVkLZFwYJISZKSQszjj9L02oFwww1w++3w9tvw2muucpWPypd3v5Duuw9++w2aNw9hm0WiSEmqUN2hQwd69erFLbfcQvXq1cnIyGDXrl2UK1eOpKQkLr74Yo466iiuu+46ACpWrMiOHTtC0hathhApiRo0gE8/hXffhdWr4ZRT3NjCrl0+X+KGG6BiRXjyyRC2U0RC5sQTT2To0KF06NCBZs2a0alTJ9avX8+qVas488wzadGiBQMHDuTxxx8HoH///lxzzTV+L7n0hdI9F0LpnqXE2LIF7rnH9S40aAAvvQRduvh06j33wLBhbiXFMceEuJ0ipZTSPTtK9yxSmlWtCq++Ct98A+XKQVoaXH65q0dRhFtvdRMehw0LQztFJGopWBApLdq1c9O0H3wQPvwQGjeG0aO9Zl+qXRuuugrGjoW1a8PWUhGJMgoWREqTxEQYOtQFDU2bwjXXwNlnu3GGQtx1l6uqPWJEGNspIlFFwYJIadS4Mcyc6YYn5s2DZs3gkUfAw6Smhg3h0kvdVIctW8LfVJHSoCzN3wvkvSpYECmtYmJcCsc//4SePeG//3XLK7///rBD77kHdu6EF1+MQDtFSrikpCQyMjLKRMBgrSUjI4OkpCS/ztNqiEJoNYSUOp995tZLrlwJV14JN97ollwaA7jUz7Nnu3oS5ctHuK0iJcj+/ftZvXo1e/fujXRTwiIpKYl69eoRHx9/yHZvqyHKVLBgjDkauA+obK3t5e1YBQtSKu3c6eY0vPwy7N7thicGDoQ+ffhuYVXatYORI11SSBGR/CK2dNIYU8UY84Ex5k9jzCJjTOsArzPGGLPBGLPAw77OxpjFxphlxpgh3q5jrf3LWnt1IG0QKRWSk+GZZ2DNGjdJIS7ORQZ16tD21Stpe+I2hg2zB4pSiYj4ItRzFp4DplprjweaA4vy7zTG1DTGVCywzVPqmDeAzgU3GmNigVFAF6AJ0NsY08QYc6Ix5tMCj5rBeUsipUDlynDddTB3rntcdRV89BFD5l/OypWG8VdMgY0bI91KESklQhYsGGMqAWcCowGstZnW2q0FDmsPTDbGJOWeMxAYWfBa1tpvgM0ebnMqsCy3xyATmAB0t9bOt9Z2K/DYELx3J1KKnHSS62VYu5a00b1oVn4pT76bSk6denDJJTB9OuTkRLqVIlKChbJn4WhgIzDWGPOrMeZ1Y0yF/AdYa98HpgITjDF9gAHAJX7coy6wKt/fq3O3eWSMSTHGvAy0NMbcW8gx5xtjXt22bZsfzRApBSpUwAzoz5DXG7GIJnzc+UWYMQM6dXK5oB97zA1fiIgUEMpgIQ44CXjJWtsS2AUcNqfAWvsUsBd4CbjAWrvTj3sYD9sKnbFprc2w1l5nrW1orX2ikGM+sdYOqly5sh/NECk9Lr4Yjj4anthwNXb1v/DOO5CaCvffD0ceCd27uyUTIiK5QhksrAZWW2t/yv37A1zwcAhjTDugKTAJGBrAPern+7seoJ9GIl7ExbmsjrNnw8wfk6B3b/jyS1iyxFW2TE+HIV7nCotIGROyYMFauw5YZYw5LnfTucAf+Y8xxrQEXgO6A/2BasaYR/24zc9AI2PMUcaYBOAy4ONiN14kyl11FRxxBDyRv3+tUSNXz/raa+GDD1RMQkQOCPVqiJuBt40xvwMtgMcL7C8PXGytXW6tzQH6AYf1fxpjxgOzgOOMMauNMVcDWGuzgJuAabiVFu9ZaxeG7N2IRImkJLjtNje3ce7cAjtvuAGys+GVVyLSNhEpecpUUiZ/KCmTRLvt290UhY4d4f33C+zs2hV++cXNXUhIiEj7RCS8IpaUSURKrkqVXEboDz/0ULTypptg3Tq3U0TKPAULImXYLbe4qtdPPVVgx3nnuTkMzz8fkXaJSMmiYEGkDKtZE66+GsaNg9Wr8+2IiXHdDrNmeZjUICJljYIFkTLuzjtdAsfhwwvsuOoqqFABXnghEs0SkRJEwYJIGZeaCpdfDq++ChkZ+XZUruxKXY8fD5s2Rap5IlICKFgQEe65B3bt8jBF4cYbYd8+eP31iLRLREoGBQsiwgknwAUXuGBh584CO845xxWiysqKWPtEJLIULIgIAPfeC5s3w2uvFdhx002wciV88klE2iUikadgQUQAOP10OOsseOYZN/JwwPnnu+xNWkYpUmYpWBCRA4YMgX//dZMdD4iLg+uvh6++goXKpi5SFilYEJEDOnVy+ZjuvhsWLMi345prXPYmLaMUKZMULIjIAcbAm2+6VZOXXgq7d+fuqF7dlbL+3/9g69aItlFEwk/BgogcolYteOstWLTIpYM+4OabXfTwxhuRapqIRIiCBRE5TIcObv7C66/DhAm5G086Cdq0gVGjXMpHESkzFCyIiEcPPeRig0GDYPny3I033QTLlsG0aRFtm4iEl4IFEfEoPh7eeQdiY+GyyyAzE7joIjjiCE10FCljFCyISKEaNIAxY2DOHJe0iYQEuPZa+Pxz18MgImWCggUR8apnT1ciYvhw+OwzXLAQG+vmLohImaBgQUSKNGwYNG8O/frBvzm1oVcvGDu2QCEJEYlWChZEpEhJSfDuu7B3L/TpA9k33Azbtrk1liIS9RQsiIhPjjvOjTx8/TU8OqM1tGzpJjpaG+mmAbBuHXTtCv/8E+mWiEQfBQsi4rN+/eCKK+DhRwxfd3rU1YqYOTPSzQJcIDNlCowbF+mWiEQfBQsi4pdRo6BhQ7j8f13YVLVRiVhGmZl5sLT2p59Gti0i0UjBgoj4pWJFN39hU4bhqmqTsZM+gpUrI9qmDz+E9euhXTuYPRs2bIhoc0SijoIFEfFby5ZuhcRnyxvzHIPh5Zcj2p4XXoBjjoERI9wUis8/j2hzRKKOggURCchNN0H37nA3TzHnxdluqUQEzJsHP/wA11/vylfUqaOhCJFgU7AgIgExxmV3PKJGNpdte5ntYz+MSDtGjYJy5aB/f9emrl1d6YrMzIg0RyQqKVgQkYBVqwbvfJDI36Ry3X0p2JzwLqPcsgXeftvlfqha1W3r1g127IDvvgtrU0SimoIFESmWtu0MD50/l/FbOjP2geVFnxBEb7wBe/a4dNR5zj0XEhM1FCESTMaWkIQqJU2rVq3snDlzIt0MkVIhe9tOOqXMZRanM+f3RJo0Cf09c3JcoqiaNeH77w/d16WLK6u9ZEno2yESLYwxc621rTztU8+CiBRbbOVk3uo/g+TsbVx60X727Qv9PadPd4Uv8/cq5OnWDZYuVbAgEiwKFkQkKGrf1ZfRXM2CP+N5/vnQ32/UKNercNFFh+/r2tU9f/ZZ6NshUhYoWCjAGHO+MebVbdu2RbopIqXLscdyfucsuiTO4JFHbEgTI61Y4eYkDBzo5icUlJoKJ5ygYEEkWBQsFGCt/cRaO6hy5cqRbopI6XPPPQzfdyO7d+bwwAOhu83LL0NMDFx7beHHdOvmil5t3x66doiUFQoWRCR4zjqL4/uewo2M4vXXLb/9Fvxb7N0Lo0e7hFD16xd+XNeukJUFX3wR/DaIlDUKFkQkuJ55hqEVR1A1Zhu33mqDXsH63XchI8PzxMb8Wrd2uRc0FCFSfAoWRCS4atak6rD7eDjrP8ycaZg0KbiXHzUKGjeGs8/2flxcnFtC+dlnbpmliAROwYKIBN+AAQxqs5CmsX9w5+3ZQSsb8fPP7nHDDS61c1G6doWNG905IhI4BQsiEnwxMcS9+iIj7G2s+CeWZ58NzmVHjYLkZLjySt+O79zZTYTUUIRI8ShYEJHQOOEEOtxzMhcwmccezmLt2uJdbtMmmDABrrgCKlXy7Zxq1eCMM5T6WaS4FCyISOjcfz/D6j3Hvj053Dcku1iXGj0a9u0remJjQV27wq+/wr//Fuv2ImWaggURCZ3y5Wn02t0MZiRvjIth7tzALpOdDS+9BGed5ZIt+aNbN/c8ZUpg9xYRBQsiEmqdO/NAz4VUtxu59drdAS2lnDIF/vnH/14FgCZNXEbHUA5F7Nzpgphx40J3D5FIUrAgIiFXedTjPFruMb6bW5733/M/Whg1CurUcYmY/GWMG4pITydoqzIKeuEF+OMP+Oab0FxfJNIULIhI6NWuzdVPN6Y587jrxl3s2eP7qUuXwrRpLrVzfHxgt+/WDXbvhpkzAzvfmx074Omn3et//gn+9UVKAgULIhIWsdcP4tnGr7IyI5lnHtnt83kvveQSLA0cGPi9zzoLypcPzVDE88/D5s1w3HHw99/Bv75ISaBgQUTCIyaGsyZcx4VM5ImnY31anbB7N4wd68pQ164d+K2TkqBDBxcsBDP99PbtMGyYG+a44AJYuVLZIiU6KVgQkfBp1oynBy4hKwvuvXp9kYe/8w5s3RrYxMaCunVzwwR//FH8a+UZORK2bIEHH4QGDdzSzvVFvy2RUkfBgoiE1dEjbub2SqMZN60WP323v9DjrHUTB088Edq2Lf5909Lcc7CGIrZtg+HD4fzzoVUrt+ICNBQh0UnBgoiEV4UK/Oe1o6jFOm69fH2hwwI//AC//QY33eRbHYii1K0LLVsGL1jI36sAB4MFTXKUaKRgQUTCruIlXXj85In8uKoe45/13G8/ahRUrgx9+gTvvt26uSBk8+biXWfrVter0L07nHSS29aggXtWz4JEIwULIhIRV03qzkkxv3LPvTHs2nlo98L69fDBB3DVVVChQvDu2bWrm4A4dWrxrvPccy5gGDr04LbkZEhJUbAg0UnBgohEREz9ujx781+s3leDp69aeMi+116D/ftdKepgOuUUqFGjeEMRW7fCiBHQo4cb1sgvNVXDEBKdFCyISMS0e6YHl1SdzlMfHs2qBdsAyMqCV16Bjh3h2GODe7+YGNe7MHWqu08gRoxwkxvz5irk16CBehYkOilYEJHIiY3lqXG1sRju6bkEgI8/htWrg7Nc0pOuXd3ExFmz/D93yxZ49lm48EJo3vzw/Xk9C8HM5SBSEihYEJGIatC1KXee9i3jl53CD6/OZ9QoOPLIg9Uig61TJ5cRMpChiOHDXSKm/HMV8ktNhT17YOPGYjVRpMRRsCAiEXfPR22oE7OOfjdX4ssv4brrIDY2NPeqVAnat4fPPvPvvM2b3cTGXr2gWTPPx2hFhEQrBQsiEnHJRyTz5M3/siyzAQmxWVxzTWjv17UrLFwIK1b4fs4zz7hS1IX1KoASM0n0UrAgIiVCn+En0yllDjckjKZGpX0hvVfeEIevvQubNrkkTBdfDE2bFn5cXs+CVkRItFGwICIlQkwMTHtnMyP2XAfvvRfSezVq5FZa+BosDB8Ou3Z571UAl0SqShX1LEj0UbAgIiVHx47QuLGbHBDiJQVdu8KXX7qhBW82bXJlqC+9FJo0Kfq6qakKFiT6KFgQkZLDGLj5Zpg7N7C1jX7o1g0yM2HGDO/HDRvmehUeeMC36yoxk0QjBQsiUrJceaXrz3/uuZDepm1btzLC21DExo2u8uVll/nWqwAHEzMp14JEEwULIlKyVKgA11wDH37osjOFSEKCy7nw6aeFf7E//bTLm/Df//p+3dRU1xORkRGUZoqUCAoWRKTkufFG9w3+0kshvU23brB2Lfz66+H7NmxwlS9794bjj/f9mipVLdFIwYKIlDxHHQUXXOCKROzZE7LbdOnipkl4Gop46inYu9e/XgVQYiaJTgoWRKRkGjzY9eWPHx+yW9SsCaeeenjq53Xr4MUXoU8f/4tZKTGTRCMFCyJSMp11Fpx4YsiXUXbrBrNnw/r1B7c99ZRbKeHrCoj8qlRxEyc1DCHRRMGCiJRMxrjehd9/h2++CdltunZ1z59/7p7XrnVTJfr2dcmb/GWMSlVL9FGwICIlV58+UK1aSJdRtmgBderAp88thwEDeOop2L8f7r8/8GsqMZNEGwULIlJylSsHgwbB5Mkh+/Y1BrqdsYUv5tXgn7EzePmlHK64Ao45JvBr5iVmUq4FiRYKFkSkZLvhBveN/uKLobl+Tg5d5z/JDipxkZnI/kxbrF4FcMMQ27fD1q3BaaJIpClYEJGSrX59uPBCeO01l+0o2F5+mXP/fIHEuGzm2pPplzCBhvUzi3VJrYiQaKNgQURKvsGD3c/0t94K7nVXrYIhQ6jQoQ3ndIwhLjaH+/fdf/haSj8pMZNEmzIVLBhjjjbGjDbGfBDptoiIH844A046CUaODN5EAGvdEEdWFrzyCsOHGyZPshxVJxPGjCnWpZWYSaJNyIMFY0ysMeZXY0zAoboxZowxZoMxZoGHfZ2NMYuNMcuMMUO8Xcda+5e19upA2yEiEZK3jPKPP4ouE+mr9993PQiPPAJHH83xx0Pa+bHQr59bR7lmTcCXTklxJS4ULEi0CEfPwi3AIk87jDE1jTEVC2zzNAf5DaCzh/NjgVFAF6AJ0NsY08QYc6Ix5tMCj5rFfSMiEkGXXeZSLgZjGeXmza4UdqtWcMsth+7r3x9ycmDcuIAvb4xKVUt0CWmwYIypB3QFXi/kkPbAZGNMUu7xA4GRBQ+y1n4DbPZw/qnAstweg0xgAtDdWjvfWtutwGNDMN6TiERIYiJce60r5LBsWfGudeedLpX0669DXNyh+xo1cvWrx44t1pCHEjNJNPEpWDDGHBZie9rmwbPA3UCOp53W2veBqcAEY0wfYABwiS9tylUXWJXv79W52zwyxqQYY14GWhpj7i3kmPONMa9u27bNj2aISFhcfz3ExrpykIFKT3eBwN13Q/Pmno8ZMAAWL4ZZswK+jRIzSTTxtWfhhPx/5Hb/n+ztBGNMN2CDtXaut+OstU8Be4GXgAustTt9bBOA8XRJL/fKsNZeZ61taK19opBjPrHWDqpcubIfzRCRsKhdGy65xE1A3LHD//N373a9E40aeS/8cPHFbtLB2LEBNzU11S3g0O8OiQZegwVjzL3GmB1AM2PM9tzHDmADMLmIa58BXGCM+Rs3PHCOMeawdU/GmHZAU2ASMNTP9q8G6uf7ux4Q+KwkESn5Bg92GY/efNP/cx98EP76y+VsKFeu8OOSk11QMmFCwLkd8lZEaN6CRAOvwYK19glrbUXgaWttpdxHRWttirXWYzd+vnPvtdbWs9amApcBX1pr++Y/xhjTEngN6A70B6oZYx71o/0/A42MMUcZYxJy7/OxH+eLSGlz2mnuMXKkm4joq7lz4ZlnYOBAaN++6OP794edO+GDwFZaKzGTRBNfhyE+NcZUADDG9DXGDDfGNAjC/csDF1trl1trc4B+wGFxuDFmPDALOM4Ys9oYczWAtTYLuAmYhltx8Z61dmEQ2iUiJdngwbB0KUyb5tvx+/fDNddArVqu/rQv2rZ1BSICHIpQYiaJJr4GCy8Bu40xzXETFv8B/ufrTay1M6213Txs/95aOz/f3/utta95OK63tba2tTY+t7didL59U6y1x+bOQ3jM1zaJSCnWq5ebv+DrMsrhw2HePDcxskoV384xxk10/PprWL7c7ybWqOFGOtSzINHA12Ahy1prccMFz1lrnwMqFnGOiEhoJCS4lRHTpsGff3o/dulSN1fhwguhZ0//7nPllRATA2+84XcTjdHySYkevgYLO3KXGl4BfJa7GiI+dM0SESnCtde6oOGFFwo/xlpX4joxEZ5/3v971K0L553ngoXsbL9PV2ImiRa+BguXAvuAAdbadZwx3O4AACAASURBVLhcBk+HrFUiIkWpWRN693Zf5IXVgh4zBmbOhKefhjp1ArtP//6werXLz+An9SxItPApWMgNEN4GKufmT9hrrfV5zoKISEgMHuyWNnqahLh2rcvU2L49XF2MkjAXXADVqgU00TE11SWK3OlP9hiREsjXDI6XALOBi3EZFn8yxvQKZcNERIp00klu1cLzzx8+TDB4MOzZA6++6uYdBCoxEfr2hUmTXE0JP2hFhEQLX/8Pug84xVrbz1p7Ja4mg5f0ZyIiYTJ4MKxY4WpG5PnoI5cf4cEH4dhji3+P/v0hMxPGj/frNJWqlmjha7AQU6AQU4Yf54qIhE7PnlCv3sFllFu3wg03uLoPd9wRnHu0aAEtW7o5EH5QYiaJFr5+4U81xkwzxlxljLkK+AyYErpmiYj4KC4ObrwRvvwSFiyAIUNg/XpXUTI+iIu2+veHX36B337z+ZRatdwohoYhpLQrqjbEMcaYM6y1dwGvAM2A5rhsiq+GoX0iIkUbOBCSktzzK6/AbbdBq1bBvcfll7ulmn5MdIyJgSOPVM+ClH5F9Sw8C+wAsNZOtNbebq29Dder8GyoGyci4pOUFDcJ8ccf4aij4KGHQnOP7t3hrbfc/AUfqVS1RIOigoVUa+3vBTdaa+cAqSFpkYhIIO64w01mHD3alZcOhQED3FrITz7x+RQlZpJoUFSwkORln5f6riIiYXb88bB4MZx9duju0bGjy+rox0THBg1gwwbYvTt0zRIJtaKChZ+NMQMLbsyt+jg3NE0SESmhYmOhXz+YOhXWrPHpFOVakGhQVLBwK9DfGDPTGPNM7uNr4BrgltA3T0SkhOnfH3Jy4H++JbFVsCDRwGuwYK1db61tAzwE/J37eMha2zo3BbSISNlyzDHQrp1bFWFtkYcr14JEA19rQ3xlrX0+9/FlqBslIlKiDRgAS5bADz8UeWjt2i7dg4IFKc2UhVFExF+9ekFysk8THfNyLWgYQkozBQsiIv5KToZLLoH33vOppKRyLUhpp2BBRCQQAwa4QOGDD4o8tEEDBQtSuilYEBEJRJs2LgmUD+mfU1Nh3TrYuzf0zRIJBQULIiKBMMYto/zmG1i2zOuheSsiVq4MfbNEQkHBgohIoK680s1gfOMNr4c1aOCeNRQhpZWCBRGRQNWpA507u2AhO7vQw5SYSUo7BQsiIsUxYAD8+y9Mn17oIXXqQFycehak9IqLdANEREq188935avHjnW9DB7ExUG9evmChexsV11q7VpXY2LNGndQ//5uLoRICaNgQUSkOBISoG9feOkl2LTJ1Y3ICwDWrDkQEKTuuIF/Ps6Gul3d0oicnMOv1awZtGoV/vcgUgQFCyIixdW/Pzz3HNSs6bleRPXqpOZ0Zvr+NnDeeW5cIv8jMRFatHBDGQoWpARSsCAiUlzNm8OwYZCR4b78a9c+GAgccQQkJtLgQVjzMGS+PIaEBA/XaNkSvvgC7r033K1n3jzXqRGjWWxSCAULIiLBcMcdXnenprpOh1WroGFDDwd07AgjRriskMnJIWmiJ7/8AiefDOPGudEUEU8UR4qIhEGRpao7dYL9++Hrr8PUImfqVPf88cdhva2UMgoWRETCoMjETGecAeXKuaGIMEpPd89ffOFiFRFPFCyIiIRBvXpuTkChiZmSkqB9+7AGC7t3w/ffuxIX27bBrFlhu7WUMgoWRETCID6+QK4FTzp1gj//dBMbwuC77yAzEx591KV5mDIlLLeVUkjBgohImBRZqrpTJ/fsJRtkMKWnuzQRaWnQrp2CBSmcggURkTBJTS2iPkSTJm65ZZiGItLTXaXtChVcwDB/ftg6NaSUUbAgIhImqamwerWXiYTGuN6F6dO9FqYKhk2b4NdfoUMH93damntW74J4omBBRCRMGjRwWZ5Xr/ZyUMeOsHmz+yYPoS+/dM95wULjxq59ChbEEwULIiJh4lOp6rxv7xAPRaSnQ+XKLiETuE6Nrl3d9n37QnprKYUULIiIhEmRiZnA1ZfIS/0cQunpcPbZbhVEnrQ0t5zym29CemsphRQsiIiESf367he812AB3LyFH36AHTtC0o6//oIVK9yIR35nn+1qWvk1FLFrF6xcGdT2ScmjYEFEJEwSEtxiB6/DEBDy1M95KzPzRjzylC/vAga/goU773QVM/fuDVr7pORRsCAiEkapqT70LIQ49XN6uuvlaNTo8H1pabBkCSxb5sOFsrPhgw9gy5aDMyYlKilYEBEJoyITM4EbCzjrrJAEC9nZ7nu9Qwc3JFJQly7u2afehe++c2swASZNClobpeRRsCAiEkZ5uRaysoo4sFMnWLw46PMB5s1zKzMLDkHkOeYYVyvCp2Bh4kQX2HTr5spWhjg3hESOggURkTBKTXWBwpo1RRyYN/swyKmf86pMnntu4cd07QozZ7q5i4Wy1vUmnHce9O0LGzaoElUUU7AgIhJGRZaqzhOi1M/p6XDiiVCrVuHHpKW5XAtffeXlQnPnutzQPXu6sYuEBPjoo6C2VUoOBQsiImHkU2ImOJj6OT09aN37e/bAt98WPgSRp107Vy/C61DExIkQGwvnnw+VKrmuikmTXI+DRB0FCyIiYXTkke65yJ4FcMHC5s3wyy9BufcPP7geg6KChcREd8yUKV6++ydOdJMwU1Lc3z17ugQOCxYEpa1SsihYEBEJo6QkOOIIH4OFIKd+Tk93GRvPPLPoY9PSXO/HokUedi5a5CZfXnjhwW0XXOB6Q7QqIiqVqWDBGHO0MWa0MeaDSLdFRMquIktV56lRA046KajBQuvWkJxc9LFel1BOnOiee/Q4uK1WLVfvuozMW1i1ytXVCPL80xIrZMGCMSbJGDPbGPObMWahMeahYlxrjDFmgzHmsP4tY0xnY8xiY8wyY8wQb9ex1v5lrb060HaIiASDT4mZ8gQp9fPmzW5OYlFDEHnq14dmzeCzzzzsnDgRTj/dTcDMr0cPVy3T5zdXeg0d6kaHbr21bKwYDWXPwj7gHGttc6AF0NkYc3r+A4wxNY0xFQtsO8bDtd4AOhfcaIyJBUYBXYAmQG9jTBNjzInGmE8LPGoG522JiBRPgwYufUJOjg8Hd+rk1lrOnFmse371lZt/4GuwAG4o4rvvYNu2fBv//tt9S+YfgsiT19MweXJxmlriLVgAb77pOn3++APefjvSLQq9kAUL1tmZ+2d87qPgVJn2wGRjTBKAMWYgMNLDtb4BNnu4zanAstweg0xgAtDdWjvfWtutwGNDkN6aiEixpKa60g9r1/pwcJs2rmhDMfu709OhYkU45RTfz0lLc3FKXm4G4OAwQ8+eh59wzDHQtGnUz1v4z3/cUM60aS5gGDoUMjMj3arQCumcBWNMrDFmHrABmG6t/Sn/fmvt+8BUYIIxpg8wALjEj1vUBVbl+3t17rbC2pNijHkZaGmMubeQY843xry67ZBQWkQkeHwqVZ0nMRHaty/2vIX0dLd4IT7e93Nat4bKlQvMW5g40Y1PHOOpExgXRHz77cE00FHm22/hk09gyBCoXh0ef9z9d3zttUi3LLRCGixYa7OttS2AesCpxpimHo55CtgLvARckK83whceMpsf1nuR/14Z1trrrLUNrbVPFHLMJ9baQZUrV/ajGSIivvM5MVOevNTPPs2KPNzff7vCUP4MQYBbOXHeefmWUK5f78YlPPUq5OnRw42vfPJJQG0tyayFu+92UzVuucVt69TJrS555JEiMl6WcmFZDWGt3QrMxPO8g3ZAU2ASMNTPS68G6uf7ux5QVBJVEZGIygsWfP7u79TJPQc4FDFjhnv2N1gANxSxbp2rKcHkye4b09N8hTwtW7pkElG4KuKjj+DHH+Ghh9zIELjVok884eKokYcNokePUK6GqGGMqZL7uhzQAfizwDEtgdeA7kB/oJox5lE/bvMz0MgYc5QxJgG4DPg4GO0XEQmV8uWhZk0/ehYaN4a6dQMeikhPh9q13WX81Tn3J96UKbghiIYNXb7owhjjehe++CKqfmpnZcG998Lxx8NVVx26r00bV0vrqadcte5oFMqehdrAV8aY33Ff6tOttZ8WOKY8cLG1drm1NgfoBxwWaxtjxgOzgOOMMauNMVcDWGuzgJuAacAi4D1r7cKQvSMRkSDxqVR1nmKkfs7JcT0LhZWkLkqtWm5S5GeTs1xt6wsvLPpCPXvC3r1uBmCUGDvWjQQ98YQbnino0Udh61Z4+unwty0cQrka4ndrbUtrbTNrbVNr7cMejvneWjs/39/7rbWHTROx1va21ta21sZba+tZa0fn2zfFWnts7jyEx0L1fkREgsnnxEx5OnVyP1vnzvXrPvPnw8aNgQ1B5ElLgx/nxLJpfyXvQxB52raFatWiZlXE7t1uxUObNtC9u+djmjeH3r3huefcsE20KVMZHEVESoq8YMGnXAtwsKa0n0MRvpSkLkpaGlhr+KLKpXDqqUWfEBfnCkx9+qlbI+rFsmWw059p7RHw3HNumev//Z/3TpWHHnK1Nx6Lwp+tChZERCKgQQP3xbJ+vY8nBJj6OT394JSHQLVqspsabGBKjX4Q4+PXRs+erl/+668LPWTePDjhBDj77JI7vSEjA5580pW+aNvW+7GNGsHVV8Mrr8CKFeFpX7goWBARiQCfS1Xn16kTzJrlc+rnffvgm2+KNwQBEJP+BZ2ZytT1LXyfMtGxI5QrV+iqiN274fLLXXKjX36BPn1KZtrkxx5zPR+PP+7b8f/9r4unHnwwpM0KOwULIiIR4Fdipjx+pn7+8Uf3pVzcYIGJE0mr8A0Z2xP4+Wcfzylf3i2l+Ogjj2Mtd97pile++y48+6xblXnnncVsZ5D9/TeMGuVWP5xwgm/n1K0LN90E48bBwiiabq9gQUQkAvxOzAQHUz/7OBSRng6xsS4BZMAyM+GTTzjv/ARiYgqpQlmYHj3g338Pm5T5ySfw0ktwxx0ukLn5ZleQ6dln4fnni9HWIMvrJXjIzzKIQ4a4HpMHHghNuyJBwYKISAQkJ0NKip/DEImJLmezj8HC9OluPmKxEtLOnAlbt1K1d2fatPEzWOjWzUUr+VZFrF0LAwZAixaHTgQcNsytNLj1Vvi4BGTL+e03eOstl6mxXj3/zq1e3fWSTJqE7z0xJZyCBRGRCPGrVHWeTp1gyZIiT9y61X1RFXsIYtIkqFABOnYkLc11EvhUAAvc8sn27Q/MW8jJcV36u3bBO++42CdPbKyr3njyyW4Jop8rRIPu3nuhShW4557Azr/tNhc0/Oc/wW1XpChYEBGJEL8SM+XxMfXzzJnuy7lYwUJ2tgsW0tKgXDnS0tzmqVP9uEbPnm5ywuLFjBzpOkWGD/ecTbJCBTdEUaOG65QIsBRGsX31FXz+ufuir1o1sGtUrOjOT093uaxKOwULIiIRkpdrwRZa/s6D44/3KfVzerr78j399GI08Mcf3drO3ERMzZq5Ikp+DUXkZjH6/aXvuecetwTx2msLP7xWLXf9PXuga1cIdwFga11vQv36bqJicVx/vRvC+M9//PxvXAIpWBARiZDUVPeluHGjHyf5mPo5Pd2NACQkFKOBEye6C+R2KRjjXn7xRZG5lg6qX589J51B71fPolo1eP31orNFN2nibr14MVx0kZtjGS4ffOCGbx5+GJKSinetpCSX+fGnn0rGPIziULAgIhIhAa2IABcsbN0Kc+Z43L1qlfuiLdYQhLVuCKJDB6hU6cDmtDTYvh1++MH3S90V/yx/7DmaN4dnUKOGb+ecc44LLGbMgOuuC88v8/37XS9A06ZwxRXBueZVV7lkTffdVzLzSPhKwYKISIQElJgJDlaFKmQoojglqQ/47TeXhrBALYgOHSA+3vehiE8/hVE/teI2htNp63t+NaFfP7d8cexY35MiFcfrr7v0008+6SZcBkNcHDzyiMu5MH58cK4ZCQoWREQiJOCeherVXernQiY5pqe7EthNmxajcRMnuiQDF1xwyOaKFeHMM30LFtatc8skmzWzPNFwdKHZHL158EH3K//++90KilDZudPlUzjzzAOjLkFz8cVuqeh//xveIZVgUrAgIhIhlSu75XkBzfrPS/28ffshm611wUKgJakPmDgR2rXD07hBWhosWAArVxZ+urXQv7/LTD1+vCHxom5uWcDWrX41wxh47TU3/6J/f5e+OhRGjHBzOYsqFhWImBjXM7Jiheu9KI0ULIiIRFBAuRag0NTPCxe6L71iDUEsWeIuVEg56rxf3t56F55/3i2xfOYZN2GRHj1ce/1aSuEkJrrpE0cd5S6zeLHfl/Bq40Z46in3dou1esSLzp1dIapHHnEpuEsbBQsiIhEUcLDQurVbG1lg3kIwSlIfyLjYs6fH3ccd5764C/venz8f7r7b5Uq4/vrcjaedBkccEdBQBLh8B1OmuDkAaWl+riApwiOPuFUpoZwXYQw88YQbmilJKa19pWBBRCSCGjQIINcCuJ/b7dt7DBaOPRaOPLIYjZo4EU45xSUb8CBvCeWMGbB376H79uxx1SSrVIHRo/N16cfEuJwLn39++Ek+Ovpol7RpzRo3lWLPnoAuc4jly+Hll+Gaa1wQFEpt27rP7f/+z+/RmIhTsCAiEkGpqW5y3ebNAZzcqRMsXeoGw3FL/2bOLOYQxOrVMHt2oUMQedLSXHd6wTkEQ4a4+QxvvOEmWR6iRw/3ZvOWawTgtNNczYaffnITHz0UtPTLAw+41R1DhxbvOr569FHYssXVwihN4iLdABGRsix/qeqUFD9Pzp/6edAgfvrJ1V0oVrCQN0xQyBBEnrPPdkmHpkw52IzPP4eRI13xpc6dPZx0zjkuZ8OkSS49Y4AuugieftoVaxo8GHr1csMTsbHuubDXBbf9+adbznjffVC7dsDN8UvLlnDppa7C5s03u4yVpYGxpT0HZYi0atXKzikk4YmISLD8+qtbBfnhh0X+mD+ctW684bTT4IMPePBBN/6+aVPgNQ045xw3Q3LhwiIP7drVdWwsWeJOadbMffnNnu0l+2Hv3q5nYe3aYiUzsNalY37xxYAvAbgAbfnyYlbm9NOSJdCkieWaXtsY9XaVoOV0KC5jzFxrbStP+9SzICISQfl7FvyWl/p54kTIyiI9PY5WrYoRKGzaBF9/7XOpxLQ094W9dKkrLb1tm4sDvKZJ7tkTJkxwKSDbtQuwoe6tv/CCy5C4c6fLjpiV5R7+vD7jjPAGCuDmlFzTZBavvNuGDz/bQ7de5ejeHTp2dHNWSyIFCyIiEVSliuuZDyhYABcsjBnD9q9/5ccfTwm4pDLgChjk5PjcxdGli3vu08fVU3j+eR8SQXXu7OpNfPRRsYIFcAHDKacU6xKRkZ3NyA2XcXbcmXy8swuTJlzEG28kkZTkhpC6d4fzzy9ZQxSa4CgiEkHGHFwREZBzzwVj+Gb0UrKzizlfYdIk15gWLXw6/OijXRHMn392vQw33ujDSZUquUZOmlT6SzEG6vvvSVi/ikvf6MLb/aazcW9F0i8YycBrcpg/HwYOdHMo2rRxqacXLYr8R6VgQUQkwgLOtQAu9XPbtqSP30C5mL203jczsG+WHTvcMswLL/QrheEll7iK2WPG+HFajx5uBcf8+f6301fZ2W5exNy5br3lK6+4JQ8DB7rJFi1bup/uAweGrg2Fef99N1bTvTuMHUv8Xbdx7se3MHJDb1b8uY9581ya68xMuPdel9TquOPgrrvg228jU5BKExwLoQmOIhIugwfDm2+6Mf+AZGTQtHE2dbcuZNr+c9xMw9tuc5MJExN9u8a778Jll7lvo7Ztfb61tW7Jpl+lsNevdz+dhw4t3prFNWtcgLN6tXud/7Fu3eHfqsa49Zx16rjHxo3wyy/ueF/LYRZXTg7Uq+eSan344cHtTz/tMll16ODmoFSsCLi39vHHMHkyfPWV+6yrV3cJr/r0KWZPUgGa4CgiUoI1aOBKPPTo4X5BNmp08FG7dtG/2NdmprBwI/R7rCocMdoVOujf3yU9uPFGV+O5qC/DiRPdL+3Wrf1quzF+Bgrg7tOmjZu34G+wsHu3++Z88023ZDQv0UL16geDgBNPPPi6Th33Idap4+4bH3/wWvPnu8Dqvfd8HEMJgu+/dz0eF1986Pa77nKBzNVXuxUpU6ZAjRrUqwc33OAe27e7FNqTJ7uPrmrV4AYLXllr9fDwOPnkk62ISDgsX25tz57WNm5sbUKCte73untUqGBt8+bW9upl7b33Wjt2rLXffWft+vXW5uS488eNc8f+8kvuBXNyrJ0+3douXdyOpCRrr7nG2gULPDdgzx5rk5OtvfbacLxdZ9gw17a//ir62Oxsa7/+2tqrr7a2YkV33pFHWnv//e497d0beDtOPNHa1q0DP99fN9/s/nvs2OF5/yefuP3HHmvtihWFXiYz09qtW4PbNGCOLeQ7UcMQhdAwhIhEQna2q+a4dOnhjxUr3HK/PJUqud6HrVvdY8MGl1X5EIsWuQxA//ufS7N83nluiKJTp4NdFp9+6qbfT53q9ofD8uVwzDGuF+TWWz0fs2wZjBvnHitWQHKy+0V+5ZWulvRhbzYATz0F99zj7tWwYfGv501OjkuhfdpprienMN9/78YZypeHadOKWWvcd96GIRQsFELBgoiUNPv3u4mQngKJSy91hYoKtWmTm+T3wgtuPL9JExc09OnjuuAnTnTRht9jCsXQrJnrS//664Pbtm51wwL/+5/70jTG9bX36+fGaYKdiGDVKjcO9NBDLvdzKH33nVsu+s47bj6JNwsWuMBt924XzJ1xRmjbhoKFgChYEJGotG+fm8w4YgTMm+fG+vfudV/E48aFty3//S889pibxffrr24ewuTJro2NG7sAoW9ft9wilM4+201y/PNPv1aC+O2WW1zAtnHjgQmMXv39twsYVq50Kyi6dQtd2/AeLGjppIhIWZKY6Lrxf/nFTa9v3dr9er3iivC3pUcP1zXfsKFbzjhjBgwa5BI3LFzohgdCHSiA611ZsgRC+QMxJwc++MBlsvIlUAC3pva779wwRI8eLpiKEK2GEBEpi4yBs85yj337fF9iGUwtW7pa07GxrhehS5fwDoPk6dXLDcW8/XboUkLOmuV6LwqugihKjRrw5Zcu/8VVV7mhorvuCkkTvVGwICJS1kUiUAAXsEyeHJl751eliuviHz/e1Y6OC8FX43vvuc/5/PP9P7diRTdv4corXS6GDRvcxMxQDpkUoGEIERGRvn3dl/CMGcG/dt4QROfOvg9BFJSY6CZG3nCDC2j693czXsNEPQsiIiJpaa6H4a23gr98NNAhiIJiY91qlpo1XT7o2FgYPTooTSyKggUREZHERPdl/s47sGtXcJdovv9+4EMQBRnjsl7WqQOnnlr86/lIwxAiIiLgVkXs2hXceRR5QxDnneeyaAXLwIHQvHnwrlcEBQsiIiLgEibVr+9WRQTLjz/Cv/8WfwgiwhQsiIiIgEsfffnlLsXyhg3Bueb777vloMEYgoggBQsiIiJ5+vZ1BTree6/418o/BFG5cvGvF0EKFkRERPI0bermArz1VvGv9dNPLpV1KR+CAAULIiIih+rTx33RL1tWvOvkDUFccEFw2hVBChZERETy693bLVEszkTHKBqCAAULIiIih6pXz9XMePttCLQy8+zZrvx1FAxBgIIFERGRw/XtC0uXugqYgYiiIQhQsCAiInK4iy5yWRcDmehorRuC6NQpKoYgQMGCiIjI4SpXdrkRJkzwv2DT7NmwcmXUDEGAggURERHP+vSBjRshPd2/895/H+Ljo2YIAhQsiIiIeNalC1St6t+qiPxDEFWqhK5tYaZgQURExJO8SpSTJsHOnb6d8/PP8M8/UTUEAQoWRERECte3L+ze7XslyrwhiO7dQ9uuMFOwICIiUpgzzoAjj/RtVYS1Lljo2DGqhiBAwYKIiEjhYmLcRMfp02H9eu/HRukQBChYEBER8S6vEuW773o/LkqHIEDBgoiIiHdNmkCLFt5XReQNQXTo4FZQRBkFCyIiIkXp29clW1q61PP+OXOidggCFCyIiIgU7bLLvFeifP99iIuLyiEIULAgIiJStLp14Zxz3KqIgpUo8w9BVKsWmfaFmIIFERERX/TpA8uXw08/Hbp97lz4+++oHYIABQsiIiK+ufBCSEo6fCgibwiiR4/ItCsMFCyIiIj4wlMlyrwhiHPPjdohCFCwICIi4ru+fWHTJpekCeCXX2DFiqgeggAFCyIiIr7r3Nn1IOSlf37/fYiNjeohCFCwICIi4ruEBLjkEvjoI9ix4+AQREpKpFsWUgoWRERE/NGnD+zZA0OHwl9/Rf0QBChYEBER8U+bNpCaCiNGlIkhCFCwICIi4p+YGLj8cvf6nHOgevXIticMFCyIiIj464orXG6Fvn0j3ZKwiIt0A0REREqd44+HlSvhiCMi3ZKwULAgIiISiNq1I92CsNEwhIiIiHilYEFERES8UrAgIiIiXpWpYMEYc7QxZrQx5oNIt0VERKS0CFmwYIypb4z5yhizyBiz0BhzSzGuNcYYs8EYs8DDvs7GmMXGmGXGmCHermOt/ctae3Wg7RARESmLQtmzkAXcYa1tDJwO3GiMaZL/AGNMTWNMxQLbjvFwrTeAzgU3GmNigVFAF6AJ0NsY08QYc6Ix5tMCj5rBeVsiIiJlS8iWTlpr1wJrc1/vMMYsAuoCf+Q7rD1wvTEmzVq71xgzEOgJpBW41jfGmFQPtzkVWGat/QvAGDMB6G6tfQLoFuS3JCIiUiaFZc5C7hd9S+Cn/Nutte8DU4EJxpg+wADgEj8uXRdYle/v1bnbCmtHijHmZaClMebeQo453xjz6rZt2/xohoiISPQKebBgjEkGPgRutdZuL7jfWvsUsBd4CbjAWrvTn8t72GYLO9ham2Gtvc5a2zC398HTMZ9YXH60igAABWFJREFUawdVrlzZj2aIiIhEr5AGC8aYeFyg8La1dmIhx7QDmgKTgKF+3mI1UD/f3/WANQE0VURERAphrC30h3jxLmyMAd4ENltrby3kmJbAeKArsAJ4C/jLWnu/h2NTgU+ttU3zbYsDlgDnAv8CPwOXW2sXBqH9G4F/8m2qDmwq7nXLIH1ugdHnFjh9doHR5xaYaPrcGlhra3jaEcpgoS3wLTAfyMnd/B9r7ZR8x5wBbLfWzs/9Ox64ylr7WoFrjQfOwv1HWQ8MtdaOzt2XBjwLxAJjrLWPhej9zLHWtgrFtaOZPrfA6HMLnD67wOhzC0xZ+dxCuRriOzzPKch/zPcF/t4PvObhuN5erjEFmFLYfhERESmeMpXBUURERPynYMF3r0a6AaWUPrfA6HMLnD67wOhzC0yZ+NxCNmdBREREooN6FkRERMQrBQs+8KdYlRxkjPnbGDPfGDPPGDMn0u0pqTwVSjPGVDPGTDfGLM19rhrJNpZEhXxuDxpj/s39Nzcvd7WU5FNYkT/9m/POy+dWJv7NaRiiCLnFqpYAHXFJoH4Geltr//B6omCM+RtoZa2NljXIIWGMORPYCfwvL4+IMeYpXI6SJ3MD1KrW2nsi2c6SppDP7UFgp7V2WCTbVpIZY2oDta21v+QW8psL9ACuQv/mCuXlc7uEMvBvTj0LRTtQrMpamwlMALpHuE0SRay13wCbC2zujktqRu5zj7A2qhQo5HOTIlhr11prf8l9vQPIK/Knf3NeePncygQFC0Xzq1iVHMICXxhj5hpjBkW6MaVMrdzKrXkVXFVi3Xc3GWN+zx2mUFe6FwWK/OnfnI88FEeM+n9zChaK5lexKjnEGdbak4AuwI253cYiofQS0BBoAawFnolsc0quoor8iWcePrcy8W9OwULRVKwqQNbaNbnPG3CFwk6NbItKlfW5Y6R5Y6UbItyeUsFau95am22tzcFlg9W/OQ8KKfKnf3NF8PS5lZV/cwoWivYz0MgYc5QxJgG4DPg4wm0q8YwxFXInAWGMqQB0AhZ4P0vy+Rjol/u6HzA5gm0pNfK+7HL1RP/mDpNb5G80sMhaOzzfLv2b86Kwz62s/JvTaggfhKtYVTQxxhyN600AV4PkHX1unnkqlAZ8BLwHHAmsBC621moyXz6FfG5n4bqDLfA3cG3eOLw4hRX5w42/699cIbx8br0pA//mFCyIiIiIVxqGEBEREa8ULIiIiIhXChZERETEKwULIiIi4pWCBREREfFKwYKIhIQxJjtfJb55wazYaoxJzV9tUkRCKy7SDRCRqLXHWtsi0o0QkeJTz4KIhJUx5m9jzP8ZY2bnPo7J3d7AGDMjtyDPDGPMkbnbaxljJhljfst9tMm9VKwx5jVjzEJjzBfGmHIRe1MiUU7BgoiESrkCwxCX5tu33Vp7KvACLjsqua//Z61tBrwNjMzdPhL42lrbHDgJWJi7vREwylp7ArAVuCjE70ekzFIGRxEJCWPMTmttsoftfwPnWGv/yi3Ms85am2KM2QTUttbuz92+1lpb3RizEahnrd2X7xqpwHRrbaPcv+8B4q21j4b+nYmUPepZEJFIsIW8LuwYT/ble52N5mCJhIyCBRGJhEvzPc/Kff0DrqorQB/gu9zXM4DrAYwxscaYSuFqpIg4isRFJFTKGWPm5ft7qrU2b/lkojHmJ9wPlt652wYDY4wxdwEbgf65228BXjXGXI3rQbgeiLqqfiIlmeYsiEhY5c5ZaGWt3RTptoiIbzQMISIiIl6pZ0FERES8Us+CiIiIeKVgQURERLxSsCAiIiJeKVgQERERrxQsiIiIiFcKFkRERMSr/wdrB9UKqkKU7wAAAABJRU5ErkJggg==\n",
      "text/plain": [
       "<Figure size 576x360 with 1 Axes>"
      ]
     },
     "metadata": {
      "needs_background": "light"
     },
     "output_type": "display_data"
    },
    {
     "data": {
      "image/png": "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\n",
      "text/plain": [
       "<Figure size 576x360 with 1 Axes>"
      ]
     },
     "metadata": {
      "needs_background": "light"
     },
     "output_type": "display_data"
    }
   ],
   "source": [
    "while True:\n",
    "    train_cost, train_score = loop_fn(\"train\", train_set, trainloader, model, criterion, optimizer, device)\n",
    "    with torch.no_grad():\n",
    "        test_cost, test_score = loop_fn(\"test\", test_set, testloader, model, criterion, optimizer, device)\n",
    "    \n",
    "    # Logging\n",
    "    callback.log(train_cost, test_cost, train_score, test_score)\n",
    "\n",
    "    # Checkpoint\n",
    "    callback.save_checkpoint()\n",
    "        \n",
    "    # Runtime Plotting\n",
    "    callback.cost_runtime_plotting()\n",
    "    callback.score_runtime_plotting()\n",
    "    \n",
    "    # Early Stopping\n",
    "    if callback.early_stopping(model, monitor=\"test_score\"):\n",
    "        callback.plot_cost()\n",
    "        callback.plot_score()\n",
    "        break"
   ]
  },
  {
   "cell_type": "markdown",
   "metadata": {},
   "source": [
    "# Sanity Check"
   ]
  },
  {
   "cell_type": "code",
   "execution_count": 145,
   "metadata": {
    "ExecuteTime": {
     "end_time": "2020-11-13T08:15:16.419044Z",
     "start_time": "2020-11-13T08:15:14.443277Z"
    }
   },
   "outputs": [
    {
     "data": {
      "text/plain": [
       "tensor([0, 1, 0, 1, 0, 1, 1, 0, 0, 1, 1, 0, 0, 0, 1, 1, 0, 1, 1, 0, 1, 1, 1, 1,\n",
       "        1, 0, 1, 1, 0, 1, 1, 0, 1, 0, 0, 0, 0, 1, 1, 1])"
      ]
     },
     "execution_count": 145,
     "metadata": {},
     "output_type": "execute_result"
    }
   ],
   "source": [
    "images, labels = next(iter(testloader))\n",
    "images, labels = images.to(device), labels.to(device)\n",
    "\n",
    "with torch.no_grad():\n",
    "    model.eval()\n",
    "    output = model(images)\n",
    "    preds = output.argmax(1)  \n",
    "preds"
   ]
  },
  {
   "cell_type": "code",
   "execution_count": 146,
   "metadata": {
    "ExecuteTime": {
     "end_time": "2020-11-13T08:15:18.769579Z",
     "start_time": "2020-11-13T08:15:16.421043Z"
    }
   },
   "outputs": [
    {
     "data": {
      "image/png": "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
